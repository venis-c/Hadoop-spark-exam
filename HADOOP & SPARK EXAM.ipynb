{
  "cells": [
    {
      "cell_type": "code",
      "execution_count": 2,
      "metadata": {
        "colab": {
          "base_uri": "https://localhost:8080/"
        },
        "id": "oy0iM_v7odAL",
        "outputId": "23b791b9-1e96-4af7-b0d0-f4645e3737cf"
      },
      "outputs": [
        {
          "name": "stderr",
          "output_type": "stream",
          "text": [
            "/usr/local/lib/python3.7/dist-packages/pyspark/sql/context.py:114: FutureWarning: Deprecated in 3.0.0. Use SparkSession.builder.getOrCreate() instead.\n",
            "  FutureWarning,\n"
          ]
        },
        {
          "data": {
            "text/plain": [
              "[Row(CRIM=0.00632, ZN=18.0, INDUS=2.309999943, CHAS=0, NOX=0.537999988, RM=6.574999809, AGE=65.19999695, DIS=4.090000153, RAD=1, TAX=296, PT=15.30000019, B=396.8999939, LSTAT=4.980000019, MV=24.0)]"
            ]
          },
          "execution_count": 2,
          "metadata": {},
          "output_type": "execute_result"
        }
      ],
      "source": [
        "from pyspark import SparkConf, SparkContext\n",
        "from pyspark.sql import SQLContext\n",
        "sc= SparkContext()\n",
        "sqlContext = SQLContext(sc)\n",
        "house_df = sqlContext.read.format('com.databricks.spark.csv').options(header='true', inferschema='true').load('boston.csv')\n",
        "house_df.take(1)"
      ]
    },
    {
      "cell_type": "code",
      "execution_count": 1,
      "metadata": {
        "colab": {
          "base_uri": "https://localhost:8080/"
        },
        "id": "WqoZ_IvnpB84",
        "outputId": "7233ec57-a8b0-4df0-9039-b09d2b0206fb"
      },
      "outputs": [
        {
          "name": "stdout",
          "output_type": "stream",
          "text": [
            "Looking in indexes: https://pypi.org/simple, https://us-python.pkg.dev/colab-wheels/public/simple/\n",
            "Collecting pyspark\n",
            "  Downloading pyspark-3.3.0.tar.gz (281.3 MB)\n",
            "\u001b[K     |████████████████████████████████| 281.3 MB 45 kB/s \n",
            "\u001b[?25hCollecting py4j==0.10.9.5\n",
            "  Downloading py4j-0.10.9.5-py2.py3-none-any.whl (199 kB)\n",
            "\u001b[K     |████████████████████████████████| 199 kB 54.6 MB/s \n",
            "\u001b[?25hBuilding wheels for collected packages: pyspark\n",
            "  Building wheel for pyspark (setup.py) ... \u001b[?25l\u001b[?25hdone\n",
            "  Created wheel for pyspark: filename=pyspark-3.3.0-py2.py3-none-any.whl size=281764026 sha256=4c4340ad626333e208f6b51c014c0750feb6cb899ee00daa8bdd6f53f1996be9\n",
            "  Stored in directory: /root/.cache/pip/wheels/7a/8e/1b/f73a52650d2e5f337708d9f6a1750d451a7349a867f928b885\n",
            "Successfully built pyspark\n",
            "Installing collected packages: py4j, pyspark\n",
            "Successfully installed py4j-0.10.9.5 pyspark-3.3.0\n"
          ]
        }
      ],
      "source": [
        "pip install pyspark"
      ]
    },
    {
      "cell_type": "code",
      "execution_count": 4,
      "metadata": {
        "colab": {
          "base_uri": "https://localhost:8080/",
          "height": 520
        },
        "id": "xLPHoY94pEGa",
        "outputId": "61f0e935-126d-4716-b299-540e052cc9c9"
      },
      "outputs": [
        {
          "data": {
            "text/html": [
              "\n",
              "  <div id=\"df-b83906ea-bd3a-4f1a-9b1b-6bdd5ccb32dd\">\n",
              "    <div class=\"colab-df-container\">\n",
              "      <div>\n",
              "<style scoped>\n",
              "    .dataframe tbody tr th:only-of-type {\n",
              "        vertical-align: middle;\n",
              "    }\n",
              "\n",
              "    .dataframe tbody tr th {\n",
              "        vertical-align: top;\n",
              "    }\n",
              "\n",
              "    .dataframe thead th {\n",
              "        text-align: right;\n",
              "    }\n",
              "</style>\n",
              "<table border=\"1\" class=\"dataframe\">\n",
              "  <thead>\n",
              "    <tr style=\"text-align: right;\">\n",
              "      <th></th>\n",
              "      <th>0</th>\n",
              "      <th>1</th>\n",
              "      <th>2</th>\n",
              "      <th>3</th>\n",
              "      <th>4</th>\n",
              "    </tr>\n",
              "  </thead>\n",
              "  <tbody>\n",
              "    <tr>\n",
              "      <th>summary</th>\n",
              "      <td>count</td>\n",
              "      <td>mean</td>\n",
              "      <td>stddev</td>\n",
              "      <td>min</td>\n",
              "      <td>max</td>\n",
              "    </tr>\n",
              "    <tr>\n",
              "      <th>CRIM</th>\n",
              "      <td>506</td>\n",
              "      <td>3.6135235608162057</td>\n",
              "      <td>8.601545086715594</td>\n",
              "      <td>0.00632</td>\n",
              "      <td>88.97619629</td>\n",
              "    </tr>\n",
              "    <tr>\n",
              "      <th>ZN</th>\n",
              "      <td>506</td>\n",
              "      <td>11.363636363636363</td>\n",
              "      <td>23.32245299451514</td>\n",
              "      <td>0.0</td>\n",
              "      <td>100.0</td>\n",
              "    </tr>\n",
              "    <tr>\n",
              "      <th>INDUS</th>\n",
              "      <td>506</td>\n",
              "      <td>11.136778749531626</td>\n",
              "      <td>6.86035298095724</td>\n",
              "      <td>0.460000008</td>\n",
              "      <td>27.73999977</td>\n",
              "    </tr>\n",
              "    <tr>\n",
              "      <th>CHAS</th>\n",
              "      <td>506</td>\n",
              "      <td>0.0691699604743083</td>\n",
              "      <td>0.2539940413404101</td>\n",
              "      <td>0</td>\n",
              "      <td>1</td>\n",
              "    </tr>\n",
              "    <tr>\n",
              "      <th>NOX</th>\n",
              "      <td>506</td>\n",
              "      <td>0.5546950602312246</td>\n",
              "      <td>0.1158776754570543</td>\n",
              "      <td>0.38499999</td>\n",
              "      <td>0.870999992</td>\n",
              "    </tr>\n",
              "    <tr>\n",
              "      <th>RM</th>\n",
              "      <td>506</td>\n",
              "      <td>6.28463438896641</td>\n",
              "      <td>0.7026171549511354</td>\n",
              "      <td>3.561000109</td>\n",
              "      <td>8.779999733</td>\n",
              "    </tr>\n",
              "    <tr>\n",
              "      <th>AGE</th>\n",
              "      <td>506</td>\n",
              "      <td>68.57490120115612</td>\n",
              "      <td>28.148861532793276</td>\n",
              "      <td>2.900000095</td>\n",
              "      <td>100.0</td>\n",
              "    </tr>\n",
              "    <tr>\n",
              "      <th>DIS</th>\n",
              "      <td>506</td>\n",
              "      <td>3.7950426960059325</td>\n",
              "      <td>2.105710142043288</td>\n",
              "      <td>1.129600048</td>\n",
              "      <td>12.12650013</td>\n",
              "    </tr>\n",
              "    <tr>\n",
              "      <th>RAD</th>\n",
              "      <td>506</td>\n",
              "      <td>9.549407114624506</td>\n",
              "      <td>8.707259384239366</td>\n",
              "      <td>1</td>\n",
              "      <td>24</td>\n",
              "    </tr>\n",
              "    <tr>\n",
              "      <th>TAX</th>\n",
              "      <td>506</td>\n",
              "      <td>408.2371541501976</td>\n",
              "      <td>168.53711605495903</td>\n",
              "      <td>187</td>\n",
              "      <td>711</td>\n",
              "    </tr>\n",
              "    <tr>\n",
              "      <th>PT</th>\n",
              "      <td>506</td>\n",
              "      <td>18.45553382776679</td>\n",
              "      <td>2.164945780039869</td>\n",
              "      <td>12.60000038</td>\n",
              "      <td>22.0</td>\n",
              "    </tr>\n",
              "    <tr>\n",
              "      <th>B</th>\n",
              "      <td>506</td>\n",
              "      <td>356.67402960597883</td>\n",
              "      <td>91.29486340272308</td>\n",
              "      <td>0.319999993</td>\n",
              "      <td>396.8999939</td>\n",
              "    </tr>\n",
              "    <tr>\n",
              "      <th>LSTAT</th>\n",
              "      <td>506</td>\n",
              "      <td>12.653063233922925</td>\n",
              "      <td>7.141061500195388</td>\n",
              "      <td>1.730000019</td>\n",
              "      <td>37.97000122</td>\n",
              "    </tr>\n",
              "    <tr>\n",
              "      <th>MV</th>\n",
              "      <td>506</td>\n",
              "      <td>22.53280636250988</td>\n",
              "      <td>9.197104107945272</td>\n",
              "      <td>5.0</td>\n",
              "      <td>50.0</td>\n",
              "    </tr>\n",
              "  </tbody>\n",
              "</table>\n",
              "</div>\n",
              "      <button class=\"colab-df-convert\" onclick=\"convertToInteractive('df-b83906ea-bd3a-4f1a-9b1b-6bdd5ccb32dd')\"\n",
              "              title=\"Convert this dataframe to an interactive table.\"\n",
              "              style=\"display:none;\">\n",
              "        \n",
              "  <svg xmlns=\"http://www.w3.org/2000/svg\" height=\"24px\"viewBox=\"0 0 24 24\"\n",
              "       width=\"24px\">\n",
              "    <path d=\"M0 0h24v24H0V0z\" fill=\"none\"/>\n",
              "    <path d=\"M18.56 5.44l.94 2.06.94-2.06 2.06-.94-2.06-.94-.94-2.06-.94 2.06-2.06.94zm-11 1L8.5 8.5l.94-2.06 2.06-.94-2.06-.94L8.5 2.5l-.94 2.06-2.06.94zm10 10l.94 2.06.94-2.06 2.06-.94-2.06-.94-.94-2.06-.94 2.06-2.06.94z\"/><path d=\"M17.41 7.96l-1.37-1.37c-.4-.4-.92-.59-1.43-.59-.52 0-1.04.2-1.43.59L10.3 9.45l-7.72 7.72c-.78.78-.78 2.05 0 2.83L4 21.41c.39.39.9.59 1.41.59.51 0 1.02-.2 1.41-.59l7.78-7.78 2.81-2.81c.8-.78.8-2.07 0-2.86zM5.41 20L4 18.59l7.72-7.72 1.47 1.35L5.41 20z\"/>\n",
              "  </svg>\n",
              "      </button>\n",
              "      \n",
              "  <style>\n",
              "    .colab-df-container {\n",
              "      display:flex;\n",
              "      flex-wrap:wrap;\n",
              "      gap: 12px;\n",
              "    }\n",
              "\n",
              "    .colab-df-convert {\n",
              "      background-color: #E8F0FE;\n",
              "      border: none;\n",
              "      border-radius: 50%;\n",
              "      cursor: pointer;\n",
              "      display: none;\n",
              "      fill: #1967D2;\n",
              "      height: 32px;\n",
              "      padding: 0 0 0 0;\n",
              "      width: 32px;\n",
              "    }\n",
              "\n",
              "    .colab-df-convert:hover {\n",
              "      background-color: #E2EBFA;\n",
              "      box-shadow: 0px 1px 2px rgba(60, 64, 67, 0.3), 0px 1px 3px 1px rgba(60, 64, 67, 0.15);\n",
              "      fill: #174EA6;\n",
              "    }\n",
              "\n",
              "    [theme=dark] .colab-df-convert {\n",
              "      background-color: #3B4455;\n",
              "      fill: #D2E3FC;\n",
              "    }\n",
              "\n",
              "    [theme=dark] .colab-df-convert:hover {\n",
              "      background-color: #434B5C;\n",
              "      box-shadow: 0px 1px 3px 1px rgba(0, 0, 0, 0.15);\n",
              "      filter: drop-shadow(0px 1px 2px rgba(0, 0, 0, 0.3));\n",
              "      fill: #FFFFFF;\n",
              "    }\n",
              "  </style>\n",
              "\n",
              "      <script>\n",
              "        const buttonEl =\n",
              "          document.querySelector('#df-b83906ea-bd3a-4f1a-9b1b-6bdd5ccb32dd button.colab-df-convert');\n",
              "        buttonEl.style.display =\n",
              "          google.colab.kernel.accessAllowed ? 'block' : 'none';\n",
              "\n",
              "        async function convertToInteractive(key) {\n",
              "          const element = document.querySelector('#df-b83906ea-bd3a-4f1a-9b1b-6bdd5ccb32dd');\n",
              "          const dataTable =\n",
              "            await google.colab.kernel.invokeFunction('convertToInteractive',\n",
              "                                                     [key], {});\n",
              "          if (!dataTable) return;\n",
              "\n",
              "          const docLinkHtml = 'Like what you see? Visit the ' +\n",
              "            '<a target=\"_blank\" href=https://colab.research.google.com/notebooks/data_table.ipynb>data table notebook</a>'\n",
              "            + ' to learn more about interactive tables.';\n",
              "          element.innerHTML = '';\n",
              "          dataTable['output_type'] = 'display_data';\n",
              "          await google.colab.output.renderOutput(dataTable, element);\n",
              "          const docLink = document.createElement('div');\n",
              "          docLink.innerHTML = docLinkHtml;\n",
              "          element.appendChild(docLink);\n",
              "        }\n",
              "      </script>\n",
              "    </div>\n",
              "  </div>\n",
              "  "
            ],
            "text/plain": [
              "             0                   1                   2            3  \\\n",
              "summary  count                mean              stddev          min   \n",
              "CRIM       506  3.6135235608162057   8.601545086715594      0.00632   \n",
              "ZN         506  11.363636363636363   23.32245299451514          0.0   \n",
              "INDUS      506  11.136778749531626    6.86035298095724  0.460000008   \n",
              "CHAS       506  0.0691699604743083  0.2539940413404101            0   \n",
              "NOX        506  0.5546950602312246  0.1158776754570543   0.38499999   \n",
              "RM         506    6.28463438896641  0.7026171549511354  3.561000109   \n",
              "AGE        506   68.57490120115612  28.148861532793276  2.900000095   \n",
              "DIS        506  3.7950426960059325   2.105710142043288  1.129600048   \n",
              "RAD        506   9.549407114624506   8.707259384239366            1   \n",
              "TAX        506   408.2371541501976  168.53711605495903          187   \n",
              "PT         506   18.45553382776679   2.164945780039869  12.60000038   \n",
              "B          506  356.67402960597883   91.29486340272308  0.319999993   \n",
              "LSTAT      506  12.653063233922925   7.141061500195388  1.730000019   \n",
              "MV         506   22.53280636250988   9.197104107945272          5.0   \n",
              "\n",
              "                   4  \n",
              "summary          max  \n",
              "CRIM     88.97619629  \n",
              "ZN             100.0  \n",
              "INDUS    27.73999977  \n",
              "CHAS               1  \n",
              "NOX      0.870999992  \n",
              "RM       8.779999733  \n",
              "AGE            100.0  \n",
              "DIS      12.12650013  \n",
              "RAD               24  \n",
              "TAX              711  \n",
              "PT              22.0  \n",
              "B        396.8999939  \n",
              "LSTAT    37.97000122  \n",
              "MV              50.0  "
            ]
          },
          "execution_count": 4,
          "metadata": {},
          "output_type": "execute_result"
        }
      ],
      "source": [
        "house_df.describe().toPandas().transpose()"
      ]
    },
    {
      "cell_type": "code",
      "execution_count": 7,
      "metadata": {
        "colab": {
          "base_uri": "https://localhost:8080/"
        },
        "id": "Y0QgBqjCqVsR",
        "outputId": "b7cad749-d467-45ad-b629-7f166e499cfc"
      },
      "outputs": [
        {
          "name": "stdout",
          "output_type": "stream",
          "text": [
            "+--------------------+-----------+\n",
            "|            features|         MV|\n",
            "+--------------------+-----------+\n",
            "|[0.00632,18.0,2.3...|       24.0|\n",
            "|[0.027310001,0.0,...|21.60000038|\n",
            "|[0.02729,0.0,7.07...|34.70000076|\n",
            "+--------------------+-----------+\n",
            "only showing top 3 rows\n",
            "\n"
          ]
        }
      ],
      "source": [
        "from pyspark.ml.feature import VectorAssembler\n",
        "vectorAssembler = VectorAssembler(inputCols = ['CRIM', 'ZN', 'INDUS', 'CHAS', 'NOX', 'RM', 'AGE', 'DIS', 'RAD', 'TAX', 'PT', 'B', 'LSTAT'], outputCol = 'features')\n",
        "vhouse_df = vectorAssembler.transform(house_df)\n",
        "vhouse_df = vhouse_df.select(['features', 'MV'])\n",
        "vhouse_df.show(3)"
      ]
    },
    {
      "cell_type": "code",
      "execution_count": 8,
      "metadata": {
        "id": "l392xjBGq6j0"
      },
      "outputs": [],
      "source": [
        "splits = vhouse_df.randomSplit([0.7, 0.3])\n",
        "train_df = splits[0]\n",
        "test_df = splits[1]"
      ]
    },
    {
      "cell_type": "code",
      "execution_count": 9,
      "metadata": {
        "colab": {
          "base_uri": "https://localhost:8080/"
        },
        "id": "EraAg_cJrAGb",
        "outputId": "69690d67-82b1-46e9-9a38-1e307103ae20"
      },
      "outputs": [
        {
          "name": "stdout",
          "output_type": "stream",
          "text": [
            "Coefficients: [0.0,0.01284522966814785,-0.02843741460187871,3.3675454232339255,-2.306439280007573,4.137688968360355,0.0,-0.7609431548801439,0.0010623491456600463,0.0,-0.792719539591535,0.007575487646133847,-0.640599392441886]\n",
            "Intercept: 20.935251031259867\n"
          ]
        }
      ],
      "source": [
        "from pyspark.ml.regression import LinearRegression\n",
        "lr = LinearRegression(featuresCol = 'features', labelCol='MV', maxIter=10, regParam=0.3, elasticNetParam=0.8)\n",
        "lr_model = lr.fit(train_df)\n",
        "print(\"Coefficients: \" + str(lr_model.coefficients))\n",
        "print(\"Intercept: \" + str(lr_model.intercept))"
      ]
    },
    {
      "cell_type": "code",
      "execution_count": 10,
      "metadata": {
        "colab": {
          "base_uri": "https://localhost:8080/"
        },
        "id": "mT33RFajrDVd",
        "outputId": "9fcd985a-d662-4c86-bcdb-3a889f74033f"
      },
      "outputs": [
        {
          "name": "stdout",
          "output_type": "stream",
          "text": [
            "RMSE: 4.836717\n",
            "r2: 0.740415\n"
          ]
        }
      ],
      "source": [
        "trainingSummary = lr_model.summary\n",
        "print(\"RMSE: %f\" % trainingSummary.rootMeanSquaredError)\n",
        "print(\"r2: %f\" % trainingSummary.r2)"
      ]
    },
    {
      "cell_type": "code",
      "execution_count": 11,
      "metadata": {
        "colab": {
          "base_uri": "https://localhost:8080/"
        },
        "id": "K2x9-m0prHRo",
        "outputId": "0e237eab-10ed-4681-e77f-692a57831642"
      },
      "outputs": [
        {
          "name": "stdout",
          "output_type": "stream",
          "text": [
            "+-------+------------------+\n",
            "|summary|                MV|\n",
            "+-------+------------------+\n",
            "|  count|               354|\n",
            "|   mean|22.935310793322035|\n",
            "| stddev| 9.506590634451204|\n",
            "|    min|               5.0|\n",
            "|    max|              50.0|\n",
            "+-------+------------------+\n",
            "\n"
          ]
        }
      ],
      "source": [
        "train_df.describe().show()"
      ]
    },
    {
      "cell_type": "code",
      "execution_count": 12,
      "metadata": {
        "colab": {
          "base_uri": "https://localhost:8080/"
        },
        "id": "xjE8sY5trPof",
        "outputId": "2666c09f-4d27-4452-c73f-d5ba378641e2"
      },
      "outputs": [
        {
          "name": "stdout",
          "output_type": "stream",
          "text": [
            "+------------------+-----------+--------------------+\n",
            "|        prediction|         MV|            features|\n",
            "+------------------+-----------+--------------------+\n",
            "|30.237334466670006|35.40000153|[0.01311,90.0,1.2...|\n",
            "|30.972795285279084|29.10000038|[0.01439,60.0,2.9...|\n",
            "| 27.65905495081879|       24.5|[0.01501,80.0,2.0...|\n",
            "| 26.25788704271782|30.10000038|[0.01709,90.0,2.0...|\n",
            "|  26.0991262923055|23.10000038|[0.0187,85.0,4.15...|\n",
            "+------------------+-----------+--------------------+\n",
            "only showing top 5 rows\n",
            "\n",
            "R Squared (R2) on test data = 0.623628\n"
          ]
        }
      ],
      "source": [
        "lr_predictions = lr_model.transform(test_df)\n",
        "lr_predictions.select(\"prediction\",\"MV\",\"features\").show(5)\n",
        "from pyspark.ml.evaluation import RegressionEvaluator\n",
        "lr_evaluator = RegressionEvaluator(predictionCol=\"prediction\", \\\n",
        "                 labelCol=\"MV\",metricName=\"r2\")\n",
        "print(\"R Squared (R2) on test data = %g\" % lr_evaluator.evaluate(lr_predictions))"
      ]
    },
    {
      "cell_type": "code",
      "execution_count": 13,
      "metadata": {
        "colab": {
          "base_uri": "https://localhost:8080/"
        },
        "id": "O9B8HEsutRI_",
        "outputId": "5f9a0f4f-b1a8-41ac-fcbd-d6490a57d488"
      },
      "outputs": [
        {
          "name": "stdout",
          "output_type": "stream",
          "text": [
            "Root Mean Squared Error (RMSE) on test data = 5.12872\n"
          ]
        }
      ],
      "source": [
        "test_result = lr_model.evaluate(test_df)\n",
        "print(\"Root Mean Squared Error (RMSE) on test data = %g\" % test_result.rootMeanSquaredError)"
      ]
    },
    {
      "cell_type": "code",
      "execution_count": 14,
      "metadata": {
        "colab": {
          "base_uri": "https://localhost:8080/"
        },
        "id": "-Lq0xqVstTTx",
        "outputId": "e00485b2-3f7a-44de-8f64-baf14345ac87"
      },
      "outputs": [
        {
          "name": "stdout",
          "output_type": "stream",
          "text": [
            "numIterations: 10\n",
            "objectiveHistory: [0.49999999999999956, 0.43329373923377634, 0.2331559808520016, 0.20665626300742007, 0.17315823574862307, 0.16870008026955258, 0.16707101867065643, 0.16570263742251579, 0.16558099964867723, 0.16549744273196412, 0.16546265849962302]\n",
            "+--------------------+\n",
            "|           residuals|\n",
            "+--------------------+\n",
            "|  -7.641936247783502|\n",
            "|  1.5142706587112507|\n",
            "|   -5.41113384511447|\n",
            "|  0.5849061031931697|\n",
            "|  2.4652645260787445|\n",
            "|  11.064347030830888|\n",
            "|0.016633806933040063|\n",
            "|   7.003626846352489|\n",
            "|   8.569737617620504|\n",
            "|  1.4295947552869706|\n",
            "|  0.3353197021128551|\n",
            "|  10.067733472260137|\n",
            "| -1.3785676201287984|\n",
            "| -10.288274313872634|\n",
            "|  -4.322747508781742|\n",
            "| -3.8842479340295526|\n",
            "|  1.0681538898168625|\n",
            "|  -2.307699327394271|\n",
            "|   2.063283435473867|\n",
            "| -1.4373502500769249|\n",
            "+--------------------+\n",
            "only showing top 20 rows\n",
            "\n"
          ]
        }
      ],
      "source": [
        "print(\"numIterations: %d\" % trainingSummary.totalIterations)\n",
        "print(\"objectiveHistory: %s\" % str(trainingSummary.objectiveHistory))\n",
        "trainingSummary.residuals.show()"
      ]
    },
    {
      "cell_type": "code",
      "execution_count": 15,
      "metadata": {
        "colab": {
          "base_uri": "https://localhost:8080/"
        },
        "id": "ONLh_rV0tVT8",
        "outputId": "47455e60-744a-4954-cb5c-a36f25f2b816"
      },
      "outputs": [
        {
          "name": "stdout",
          "output_type": "stream",
          "text": [
            "+------------------+-----------+--------------------+\n",
            "|        prediction|         MV|            features|\n",
            "+------------------+-----------+--------------------+\n",
            "|30.237334466670006|35.40000153|[0.01311,90.0,1.2...|\n",
            "|30.972795285279084|29.10000038|[0.01439,60.0,2.9...|\n",
            "| 27.65905495081879|       24.5|[0.01501,80.0,2.0...|\n",
            "| 26.25788704271782|30.10000038|[0.01709,90.0,2.0...|\n",
            "|  26.0991262923055|23.10000038|[0.0187,85.0,4.15...|\n",
            "| 25.61789220280682|       33.0|[0.019509999,17.5...|\n",
            "| 37.04886219867478|42.29999924|[0.02177,82.5,2.0...|\n",
            "|31.493676315644368|31.10000038|[0.02187,60.0,2.9...|\n",
            "|31.888073124014774|34.70000076|[0.02729,0.0,7.07...|\n",
            "|  26.0098474209082|26.60000038|[0.02899,40.0,1.2...|\n",
            "|19.853091532984397|       17.5|[0.031129999,0.0,...|\n",
            "|30.444950151813224|33.40000153|[0.032370001,0.0,...|\n",
            "| 22.55012072375917|20.60000038|[0.033059999,0.0,...|\n",
            "| 31.02687263301153|       28.5|[0.035020001,80.0...|\n",
            "|38.604479955737894|       48.5|[0.035100002,95.0...|\n",
            "| 29.20073672787194|       23.5|[0.035840001,80.0...|\n",
            "| 23.41241209442694|20.70000076|[0.037379999,0.0,...|\n",
            "| 21.89248674387046|21.10000038|[0.039609998,0.0,...|\n",
            "|25.691274892299283|24.79999924|[0.042970002,52.5...|\n",
            "|  23.5513416547873|19.39999962|[0.043790001,80.0...|\n",
            "+------------------+-----------+--------------------+\n",
            "only showing top 20 rows\n",
            "\n"
          ]
        }
      ],
      "source": [
        "predictions = lr_model.transform(test_df)\n",
        "predictions.select(\"prediction\",\"MV\",\"features\").show()"
      ]
    },
    {
      "cell_type": "code",
      "execution_count": null,
      "metadata": {
        "id": "54kJNt9FtaTh"
      },
      "outputs": [],
      "source": []
    }
  ],
  "metadata": {
    "colab": {
      "name": "Untitled32.ipynb",
      "provenance": []
    },
    "kernelspec": {
      "display_name": "Python 3",
      "name": "python3"
    },
    "language_info": {
      "name": "python"
    }
  },
  "nbformat": 4,
  "nbformat_minor": 0
}
